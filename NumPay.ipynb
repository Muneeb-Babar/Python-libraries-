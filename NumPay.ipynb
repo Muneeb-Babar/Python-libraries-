{
 "cells": [
  {
   "cell_type": "code",
   "execution_count": 2,
   "id": "0809c1a5",
   "metadata": {},
   "outputs": [
    {
     "data": {
      "text/plain": [
       "[4.2, 5.2, 5.6, 5.8, 6.2]"
      ]
     },
     "execution_count": 2,
     "metadata": {},
     "output_type": "execute_result"
    }
   ],
   "source": [
    "height=[4.2,5.2,5.6,5.8,6.2]\n",
    "height\n"
   ]
  },
  {
   "cell_type": "code",
   "execution_count": 3,
   "id": "ee57c4e9",
   "metadata": {},
   "outputs": [
    {
     "data": {
      "text/plain": [
       "[40, 50, 60, 70, 80]"
      ]
     },
     "execution_count": 3,
     "metadata": {},
     "output_type": "execute_result"
    }
   ],
   "source": [
    "weight=[40,50,60,70,80]\n",
    "weight"
   ]
  },
  {
   "cell_type": "markdown",
   "id": "902892ee",
   "metadata": {},
   "source": [
    "Numpay - Numeric Python\n"
   ]
  },
  {
   "cell_type": "code",
   "execution_count": 5,
   "id": "bb40f74c",
   "metadata": {},
   "outputs": [],
   "source": [
    "import numpy as np"
   ]
  },
  {
   "cell_type": "code",
   "execution_count": 8,
   "id": "10b9c38f",
   "metadata": {},
   "outputs": [
    {
     "data": {
      "text/plain": [
       "array([4.2, 5.2, 5.6, 5.8, 6.2])"
      ]
     },
     "execution_count": 8,
     "metadata": {},
     "output_type": "execute_result"
    }
   ],
   "source": [
    "np_height=np.array([4.2,5.2,5.6,5.8,6.2])\n",
    "np_height"
   ]
  },
  {
   "cell_type": "code",
   "execution_count": 7,
   "id": "9cdd3b49",
   "metadata": {},
   "outputs": [
    {
     "data": {
      "text/plain": [
       "array([4.2, 5.2, 5.6, 5.8, 6.2])"
      ]
     },
     "execution_count": 7,
     "metadata": {},
     "output_type": "execute_result"
    }
   ],
   "source": [
    "np_weight=np.array([40,50,60,70,80])\n",
    "np_height"
   ]
  },
  {
   "cell_type": "code",
   "execution_count": 9,
   "id": "b549f647",
   "metadata": {},
   "outputs": [
    {
     "data": {
      "text/plain": [
       "array([2.2675737 , 1.84911243, 1.91326531, 2.08085612, 2.08116545])"
      ]
     },
     "execution_count": 9,
     "metadata": {},
     "output_type": "execute_result"
    }
   ],
   "source": [
    "#BMI\n",
    "np_bmi=np_weight/np_height**2\n",
    "np_bmi"
   ]
  },
  {
   "cell_type": "markdown",
   "id": "29b44dd6",
   "metadata": {},
   "source": [
    "1D Array\n"
   ]
  },
  {
   "cell_type": "code",
   "execution_count": 10,
   "id": "8e38c667",
   "metadata": {},
   "outputs": [
    {
     "data": {
      "text/plain": [
       "1"
      ]
     },
     "execution_count": 10,
     "metadata": {},
     "output_type": "execute_result"
    }
   ],
   "source": [
    "arr1=np.array([1,2,3,4,5])\n",
    "arr1.ndim"
   ]
  },
  {
   "cell_type": "code",
   "execution_count": null,
   "id": "0ab657bb",
   "metadata": {},
   "outputs": [
    {
     "data": {
      "text/plain": [
       "array(['1', '2.3', 'hello', 'False'], dtype='<U32')"
      ]
     },
     "execution_count": 11,
     "metadata": {},
     "output_type": "execute_result"
    }
   ],
   "source": [
    "np.array([1,2.3,\"hello\",False]) # Numpy only allows one data type"
   ]
  },
  {
   "cell_type": "markdown",
   "id": "a14e9604",
   "metadata": {},
   "source": [
    "Python List\n"
   ]
  },
  {
   "cell_type": "code",
   "execution_count": null,
   "id": "3e3c58e9",
   "metadata": {},
   "outputs": [],
   "source": [
    "list1=[1,2,3,4,5]\n",
    "list2=[6,7,8,9,10]\n",
    "list1+list2 # list concatenation"
   ]
  },
  {
   "cell_type": "markdown",
   "id": "f8a816b3",
   "metadata": {},
   "source": [
    "Numpy Array"
   ]
  },
  {
   "cell_type": "code",
   "execution_count": 12,
   "id": "91147162",
   "metadata": {},
   "outputs": [
    {
     "data": {
      "text/plain": [
       "array([ 7,  9, 11, 13, 15])"
      ]
     },
     "execution_count": 12,
     "metadata": {},
     "output_type": "execute_result"
    }
   ],
   "source": [
    "np_list1=np.array([1,2,3,4,5])\n",
    "np_list2=np.array([6,7,8,9,10])\n",
    "np_list1+np_list2 # Numpy array addition"
   ]
  },
  {
   "cell_type": "markdown",
   "id": "3dfe97e1",
   "metadata": {},
   "source": [
    "Numpy Subsetting"
   ]
  },
  {
   "cell_type": "code",
   "execution_count": 13,
   "id": "bc3fd979",
   "metadata": {},
   "outputs": [
    {
     "data": {
      "text/plain": [
       "8"
      ]
     },
     "execution_count": 13,
     "metadata": {},
     "output_type": "execute_result"
    }
   ],
   "source": [
    "np_list2[2]"
   ]
  },
  {
   "cell_type": "code",
   "execution_count": 14,
   "id": "a42469c8",
   "metadata": {},
   "outputs": [
    {
     "data": {
      "text/plain": [
       "array([False,  True,  True,  True,  True])"
      ]
     },
     "execution_count": 14,
     "metadata": {},
     "output_type": "execute_result"
    }
   ],
   "source": [
    "np_list2 > 6"
   ]
  },
  {
   "cell_type": "code",
   "execution_count": 15,
   "id": "a322344a",
   "metadata": {},
   "outputs": [
    {
     "data": {
      "text/plain": [
       "array([ 7,  8,  9, 10])"
      ]
     },
     "execution_count": 15,
     "metadata": {},
     "output_type": "execute_result"
    }
   ],
   "source": [
    "np_list2[np_list2 > 6] # Boolean indexing"
   ]
  },
  {
   "cell_type": "markdown",
   "id": "aebbe6ac",
   "metadata": {},
   "source": [
    "2D Array\n"
   ]
  },
  {
   "cell_type": "code",
   "execution_count": 19,
   "id": "892a31ae",
   "metadata": {},
   "outputs": [
    {
     "data": {
      "text/plain": [
       "array([[1, 2, 3],\n",
       "       [4, 5, 6],\n",
       "       [7, 8, 9]])"
      ]
     },
     "execution_count": 19,
     "metadata": {},
     "output_type": "execute_result"
    }
   ],
   "source": [
    "arr_2d=np.array([[1,2,3],[4,5,6],[7,8,9]]) \n",
    "arr_2d # 2D array same number of rows and columns\n",
    "# arr_2d.ndim"
   ]
  },
  {
   "cell_type": "code",
   "execution_count": 20,
   "id": "50412489",
   "metadata": {},
   "outputs": [
    {
     "data": {
      "text/plain": [
       "4"
      ]
     },
     "execution_count": 20,
     "metadata": {},
     "output_type": "execute_result"
    }
   ],
   "source": [
    "arr_2d[1,0] # 2nd row, 1st column"
   ]
  },
  {
   "cell_type": "code",
   "execution_count": 21,
   "id": "a3a24a46",
   "metadata": {},
   "outputs": [
    {
     "data": {
      "text/plain": [
       "array([[4, 5, 6],\n",
       "       [7, 8, 9]])"
      ]
     },
     "execution_count": 21,
     "metadata": {},
     "output_type": "execute_result"
    }
   ],
   "source": [
    "#To get last two matrices\n",
    "arr_2d[1:] "
   ]
  },
  {
   "cell_type": "markdown",
   "id": "a0c8b9d1",
   "metadata": {},
   "source": [
    "3D Array\n"
   ]
  },
  {
   "cell_type": "code",
   "execution_count": 26,
   "id": "b79abefd",
   "metadata": {},
   "outputs": [
    {
     "data": {
      "text/plain": [
       "3"
      ]
     },
     "execution_count": 26,
     "metadata": {},
     "output_type": "execute_result"
    }
   ],
   "source": [
    "arr_3d=np.array([\n",
    "    [[1, 2, 3],[4, 5, 6]],\n",
    "    [[7, 8, 9],[10, 11, 12]]\n",
    "])\n",
    "\n",
    "arr_3d.ndim # 3D array"
   ]
  },
  {
   "cell_type": "code",
   "execution_count": null,
   "id": "59c65f42",
   "metadata": {},
   "outputs": [
    {
     "data": {
      "text/plain": [
       "12"
      ]
     },
     "execution_count": 29,
     "metadata": {},
     "output_type": "execute_result"
    }
   ],
   "source": [
    "arr_3d[1,1,2] "
   ]
  },
  {
   "cell_type": "markdown",
   "id": "6472339d",
   "metadata": {},
   "source": [
    "Numpy Properties\n"
   ]
  },
  {
   "cell_type": "code",
   "execution_count": null,
   "id": "00ac4d88",
   "metadata": {},
   "outputs": [
    {
     "data": {
      "text/plain": [
       "dtype('int32')"
      ]
     },
     "execution_count": 34,
     "metadata": {},
     "output_type": "execute_result"
    }
   ],
   "source": [
    "np_list1=np.array([1,2,3,4,5])\n",
    "np_list2=np.array([6,7,8,9,10])\n",
    "\n",
    "np_list1.shape\n",
    "np_list1.size\n",
    "np_list1.dtype #search more properties"
   ]
  },
  {
   "cell_type": "markdown",
   "id": "8a6456da",
   "metadata": {},
   "source": []
  },
  {
   "cell_type": "markdown",
   "id": "b7b3182c",
   "metadata": {},
   "source": []
  }
 ],
 "metadata": {
  "kernelspec": {
   "display_name": "base",
   "language": "python",
   "name": "python3"
  },
  "language_info": {
   "codemirror_mode": {
    "name": "ipython",
    "version": 3
   },
   "file_extension": ".py",
   "mimetype": "text/x-python",
   "name": "python",
   "nbconvert_exporter": "python",
   "pygments_lexer": "ipython3",
   "version": "3.12.7"
  }
 },
 "nbformat": 4,
 "nbformat_minor": 5
}
