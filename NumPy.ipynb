{
 "cells": [
  {
   "cell_type": "code",
   "execution_count": 1,
   "id": "0809c1a5",
   "metadata": {},
   "outputs": [
    {
     "data": {
      "text/plain": [
       "[4.2, 5.2, 5.6, 5.8, 6.2]"
      ]
     },
     "execution_count": 1,
     "metadata": {},
     "output_type": "execute_result"
    }
   ],
   "source": [
    "height=[4.2,5.2,5.6,5.8,6.2]\n",
    "height\n"
   ]
  },
  {
   "cell_type": "code",
   "execution_count": 2,
   "id": "ee57c4e9",
   "metadata": {},
   "outputs": [
    {
     "data": {
      "text/plain": [
       "[40, 50, 60, 70, 80]"
      ]
     },
     "execution_count": 2,
     "metadata": {},
     "output_type": "execute_result"
    }
   ],
   "source": [
    "weight=[40,50,60,70,80]\n",
    "weight"
   ]
  },
  {
   "cell_type": "markdown",
   "id": "902892ee",
   "metadata": {},
   "source": [
    "Numpay - Numeric Python\n"
   ]
  },
  {
   "cell_type": "code",
   "execution_count": 3,
   "id": "bb40f74c",
   "metadata": {},
   "outputs": [],
   "source": [
    "import numpy as np"
   ]
  },
  {
   "cell_type": "code",
   "execution_count": 4,
   "id": "10b9c38f",
   "metadata": {},
   "outputs": [
    {
     "data": {
      "text/plain": [
       "array([4.2, 5.2, 5.6, 5.8, 6.2])"
      ]
     },
     "execution_count": 4,
     "metadata": {},
     "output_type": "execute_result"
    }
   ],
   "source": [
    "np_height=np.array([4.2,5.2,5.6,5.8,6.2])\n",
    "np_height"
   ]
  },
  {
   "cell_type": "code",
   "execution_count": 5,
   "id": "9cdd3b49",
   "metadata": {},
   "outputs": [
    {
     "data": {
      "text/plain": [
       "array([4.2, 5.2, 5.6, 5.8, 6.2])"
      ]
     },
     "execution_count": 5,
     "metadata": {},
     "output_type": "execute_result"
    }
   ],
   "source": [
    "np_weight=np.array([40,50,60,70,80])\n",
    "np_height"
   ]
  },
  {
   "cell_type": "code",
   "execution_count": 6,
   "id": "b549f647",
   "metadata": {},
   "outputs": [
    {
     "data": {
      "text/plain": [
       "array([2.2675737 , 1.84911243, 1.91326531, 2.08085612, 2.08116545])"
      ]
     },
     "execution_count": 6,
     "metadata": {},
     "output_type": "execute_result"
    }
   ],
   "source": [
    "#BMI\n",
    "np_bmi=np_weight/np_height**2\n",
    "np_bmi"
   ]
  },
  {
   "cell_type": "markdown",
   "id": "29b44dd6",
   "metadata": {},
   "source": [
    "1D Array\n"
   ]
  },
  {
   "cell_type": "code",
   "execution_count": 7,
   "id": "8e38c667",
   "metadata": {},
   "outputs": [
    {
     "data": {
      "text/plain": [
       "1"
      ]
     },
     "execution_count": 7,
     "metadata": {},
     "output_type": "execute_result"
    }
   ],
   "source": [
    "arr1=np.array([1,2,3,4,5])\n",
    "arr1.ndim"
   ]
  },
  {
   "cell_type": "code",
   "execution_count": 8,
   "id": "0ab657bb",
   "metadata": {},
   "outputs": [
    {
     "data": {
      "text/plain": [
       "array(['1', '2.3', 'hello', 'False'], dtype='<U32')"
      ]
     },
     "execution_count": 8,
     "metadata": {},
     "output_type": "execute_result"
    }
   ],
   "source": [
    "np.array([1,2.3,\"hello\",False]) # Numpy only allows one data type"
   ]
  },
  {
   "cell_type": "markdown",
   "id": "a14e9604",
   "metadata": {},
   "source": [
    "Python List\n"
   ]
  },
  {
   "cell_type": "code",
   "execution_count": 9,
   "id": "3e3c58e9",
   "metadata": {},
   "outputs": [
    {
     "data": {
      "text/plain": [
       "[1, 2, 3, 4, 5, 6, 7, 8, 9, 10]"
      ]
     },
     "execution_count": 9,
     "metadata": {},
     "output_type": "execute_result"
    }
   ],
   "source": [
    "list1=[1,2,3,4,5]\n",
    "list2=[6,7,8,9,10]\n",
    "list1+list2 # list concatenation"
   ]
  },
  {
   "cell_type": "markdown",
   "id": "f8a816b3",
   "metadata": {},
   "source": [
    "Numpy Array"
   ]
  },
  {
   "cell_type": "code",
   "execution_count": 10,
   "id": "91147162",
   "metadata": {},
   "outputs": [
    {
     "data": {
      "text/plain": [
       "array([ 7,  9, 11, 13, 15])"
      ]
     },
     "execution_count": 10,
     "metadata": {},
     "output_type": "execute_result"
    }
   ],
   "source": [
    "np_list1=np.array([1,2,3,4,5])\n",
    "np_list2=np.array([6,7,8,9,10])\n",
    "np_list1+np_list2 # Numpy array addition"
   ]
  },
  {
   "cell_type": "markdown",
   "id": "3dfe97e1",
   "metadata": {},
   "source": [
    "Numpy Subsetting"
   ]
  },
  {
   "cell_type": "code",
   "execution_count": 11,
   "id": "bc3fd979",
   "metadata": {},
   "outputs": [
    {
     "data": {
      "text/plain": [
       "8"
      ]
     },
     "execution_count": 11,
     "metadata": {},
     "output_type": "execute_result"
    }
   ],
   "source": [
    "np_list2[2]"
   ]
  },
  {
   "cell_type": "code",
   "execution_count": 12,
   "id": "a42469c8",
   "metadata": {},
   "outputs": [
    {
     "data": {
      "text/plain": [
       "array([False,  True,  True,  True,  True])"
      ]
     },
     "execution_count": 12,
     "metadata": {},
     "output_type": "execute_result"
    }
   ],
   "source": [
    "np_list2 > 6"
   ]
  },
  {
   "cell_type": "code",
   "execution_count": 13,
   "id": "a322344a",
   "metadata": {},
   "outputs": [
    {
     "data": {
      "text/plain": [
       "array([ 7,  8,  9, 10])"
      ]
     },
     "execution_count": 13,
     "metadata": {},
     "output_type": "execute_result"
    }
   ],
   "source": [
    "np_list2[np_list2 > 6] # Boolean indexing"
   ]
  },
  {
   "cell_type": "markdown",
   "id": "aebbe6ac",
   "metadata": {},
   "source": [
    "2D Array\n"
   ]
  },
  {
   "cell_type": "code",
   "execution_count": 14,
   "id": "892a31ae",
   "metadata": {},
   "outputs": [
    {
     "data": {
      "text/plain": [
       "array([[1, 2, 3],\n",
       "       [4, 5, 6],\n",
       "       [7, 8, 9]])"
      ]
     },
     "execution_count": 14,
     "metadata": {},
     "output_type": "execute_result"
    }
   ],
   "source": [
    "arr_2d=np.array([[1,2,3],[4,5,6],[7,8,9]]) \n",
    "arr_2d # 2D array same number of rows and columns\n",
    "# arr_2d.ndim"
   ]
  },
  {
   "cell_type": "code",
   "execution_count": 15,
   "id": "50412489",
   "metadata": {},
   "outputs": [
    {
     "data": {
      "text/plain": [
       "4"
      ]
     },
     "execution_count": 15,
     "metadata": {},
     "output_type": "execute_result"
    }
   ],
   "source": [
    "arr_2d[1,0] # 2nd row, 1st column"
   ]
  },
  {
   "cell_type": "code",
   "execution_count": 16,
   "id": "a3a24a46",
   "metadata": {},
   "outputs": [
    {
     "data": {
      "text/plain": [
       "array([[4, 5, 6],\n",
       "       [7, 8, 9]])"
      ]
     },
     "execution_count": 16,
     "metadata": {},
     "output_type": "execute_result"
    }
   ],
   "source": [
    "#To get last two matrices\n",
    "arr_2d[1:] "
   ]
  },
  {
   "cell_type": "markdown",
   "id": "a0c8b9d1",
   "metadata": {},
   "source": [
    "3D Array\n"
   ]
  },
  {
   "cell_type": "code",
   "execution_count": 17,
   "id": "b79abefd",
   "metadata": {},
   "outputs": [
    {
     "data": {
      "text/plain": [
       "3"
      ]
     },
     "execution_count": 17,
     "metadata": {},
     "output_type": "execute_result"
    }
   ],
   "source": [
    "arr_3d=np.array([\n",
    "    [[1, 2, 3],[4, 5, 6]],\n",
    "    [[7, 8, 9],[10, 11, 12]]\n",
    "])\n",
    "\n",
    "arr_3d.ndim # 3D array"
   ]
  },
  {
   "cell_type": "code",
   "execution_count": 18,
   "id": "59c65f42",
   "metadata": {},
   "outputs": [
    {
     "data": {
      "text/plain": [
       "12"
      ]
     },
     "execution_count": 18,
     "metadata": {},
     "output_type": "execute_result"
    }
   ],
   "source": [
    "arr_3d[1,1,2] "
   ]
  },
  {
   "cell_type": "markdown",
   "id": "6472339d",
   "metadata": {},
   "source": [
    "Numpy Properties\n"
   ]
  },
  {
   "cell_type": "code",
   "execution_count": 19,
   "id": "00ac4d88",
   "metadata": {},
   "outputs": [
    {
     "data": {
      "text/plain": [
       "dtype('int32')"
      ]
     },
     "execution_count": 19,
     "metadata": {},
     "output_type": "execute_result"
    }
   ],
   "source": [
    "np_list1=np.array([1,2,3,4,5])\n",
    "np_list2=np.array([6,7,8,9,10])\n",
    "\n",
    "np_list1.shape\n",
    "np_list1.size\n",
    "np_list1.dtype #search more properties"
   ]
  },
  {
   "cell_type": "markdown",
   "id": "8a6456da",
   "metadata": {},
   "source": [
    "Bulitin Creation Method\n"
   ]
  },
  {
   "cell_type": "code",
   "execution_count": null,
   "id": "ab8895ea",
   "metadata": {},
   "outputs": [
    {
     "data": {
      "text/plain": [
       "array([[1., 1., 1.],\n",
       "       [1., 1., 1.]])"
      ]
     },
     "execution_count": 21,
     "metadata": {},
     "output_type": "execute_result"
    }
   ],
   "source": [
    "np.zeros((2,3)) # Create an array of zeros with shape (2,3) this is null vector\n",
    "np.ones((2,3)) # Create an array of ones with shape (2,3) this is unit vector"
   ]
  },
  {
   "cell_type": "markdown",
   "id": "b7b3182c",
   "metadata": {},
   "source": [
    "Statistics\n"
   ]
  },
  {
   "cell_type": "code",
   "execution_count": 23,
   "id": "4c5b8c8e",
   "metadata": {},
   "outputs": [
    {
     "data": {
      "text/plain": [
       "3.0"
      ]
     },
     "execution_count": 23,
     "metadata": {},
     "output_type": "execute_result"
    }
   ],
   "source": [
    "np.mean(np_list1) # Mean of the array"
   ]
  },
  {
   "cell_type": "code",
   "execution_count": 24,
   "id": "ff9ce935",
   "metadata": {},
   "outputs": [
    {
     "data": {
      "text/plain": [
       "8.0"
      ]
     },
     "execution_count": 24,
     "metadata": {},
     "output_type": "execute_result"
    }
   ],
   "source": [
    "np.median(np_list2)"
   ]
  },
  {
   "cell_type": "code",
   "execution_count": 25,
   "id": "c2599611",
   "metadata": {},
   "outputs": [
    {
     "data": {
      "text/plain": [
       "2.0"
      ]
     },
     "execution_count": 25,
     "metadata": {},
     "output_type": "execute_result"
    }
   ],
   "source": [
    "np.std(np_list2) # Standard deviation\n",
    "np.var(np_list2) # Variance"
   ]
  },
  {
   "cell_type": "markdown",
   "id": "559981c1",
   "metadata": {},
   "source": []
  }
 ],
 "metadata": {
  "kernelspec": {
   "display_name": "base",
   "language": "python",
   "name": "python3"
  },
  "language_info": {
   "codemirror_mode": {
    "name": "ipython",
    "version": 3
   },
   "file_extension": ".py",
   "mimetype": "text/x-python",
   "name": "python",
   "nbconvert_exporter": "python",
   "pygments_lexer": "ipython3",
   "version": "3.12.7"
  }
 },
 "nbformat": 4,
 "nbformat_minor": 5
}
